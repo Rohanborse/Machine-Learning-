{
 "cells": [
  {
   "cell_type": "markdown",
   "id": "6cb3a5e0-a4bb-44a5-b8d4-967dd6fde456",
   "metadata": {},
   "source": [
    "# Decision Tree\n"
   ]
  },
  {
   "cell_type": "markdown",
   "id": "09211d1d-cdc4-41dc-84ca-39fc6250e190",
   "metadata": {},
   "source": [
    "Used in both Classification and Regression\n",
    "\n",
    "2 type of nodes :-\n",
    "\n",
    "    1) Decision Tree\n",
    "    \n",
    "    2) Leafe Node  "
   ]
  },
  {
   "cell_type": "code",
   "execution_count": null,
   "id": "cad1ff15-b1ee-4b80-bc44-09c6874f233d",
   "metadata": {},
   "outputs": [],
   "source": []
  }
 ],
 "metadata": {
  "kernelspec": {
   "display_name": "Python 3 (ipykernel)",
   "language": "python",
   "name": "python3"
  },
  "language_info": {
   "codemirror_mode": {
    "name": "ipython",
    "version": 3
   },
   "file_extension": ".py",
   "mimetype": "text/x-python",
   "name": "python",
   "nbconvert_exporter": "python",
   "pygments_lexer": "ipython3",
   "version": "3.10.9"
  }
 },
 "nbformat": 4,
 "nbformat_minor": 5
}
